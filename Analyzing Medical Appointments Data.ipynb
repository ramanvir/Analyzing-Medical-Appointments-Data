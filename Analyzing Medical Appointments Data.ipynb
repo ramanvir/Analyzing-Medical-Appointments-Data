{
 "cells": [
  {
   "cell_type": "markdown",
   "metadata": {},
   "source": [
    "# Insights about \"No Show\" to Medical Appointments\n",
    "\n",
    "A person makes a doctor appointment but does not show up. The following notebook contains analysis of the dataset to understand the correlation between patient not showing up and various datapoints.\n",
    "\n",
    "Data set is available on kaggle - https://www.kaggle.com/joniarroba/noshowappointments\n",
    "\n",
    "## Table of Contents\n",
    "<ul>\n",
    "<li><a href=\"#1\">Importing and Exploring Data</a></li>\n",
    "<li><a href=\"#2\">Data Wrangling</a></li>\n",
    "<li><a href=\"#3\">Exploratory Data Analysis</a></li>\n",
    "<li><a href=\"#4\">Conclusion</a></li>\n",
    "</ul>"
   ]
  },
  {
   "cell_type": "markdown",
   "metadata": {},
   "source": [
    "<a id='1'></a>\n",
    "## Step 1 - Importing and Exploring Data"
   ]
  },
  {
   "cell_type": "code",
   "execution_count": 43,
   "metadata": {},
   "outputs": [],
   "source": [
    "#importing necessary libraries\n",
    "\n",
    "import pandas as pd\n",
    "import matplotlib.pyplot as plt\n",
    "import datetime as dt\n",
    "import numpy as np\n",
    "\n",
    "% matplotlib inline"
   ]
  },
  {
   "cell_type": "code",
   "execution_count": 2,
   "metadata": {},
   "outputs": [
    {
     "data": {
      "text/html": [
       "<div>\n",
       "<style scoped>\n",
       "    .dataframe tbody tr th:only-of-type {\n",
       "        vertical-align: middle;\n",
       "    }\n",
       "\n",
       "    .dataframe tbody tr th {\n",
       "        vertical-align: top;\n",
       "    }\n",
       "\n",
       "    .dataframe thead th {\n",
       "        text-align: right;\n",
       "    }\n",
       "</style>\n",
       "<table border=\"1\" class=\"dataframe\">\n",
       "  <thead>\n",
       "    <tr style=\"text-align: right;\">\n",
       "      <th></th>\n",
       "      <th>PatientId</th>\n",
       "      <th>AppointmentID</th>\n",
       "      <th>Gender</th>\n",
       "      <th>ScheduledDay</th>\n",
       "      <th>AppointmentDay</th>\n",
       "      <th>Age</th>\n",
       "      <th>Neighbourhood</th>\n",
       "      <th>Scholarship</th>\n",
       "      <th>Hipertension</th>\n",
       "      <th>Diabetes</th>\n",
       "      <th>Alcoholism</th>\n",
       "      <th>Handcap</th>\n",
       "      <th>SMS_received</th>\n",
       "      <th>No-show</th>\n",
       "    </tr>\n",
       "  </thead>\n",
       "  <tbody>\n",
       "    <tr>\n",
       "      <th>0</th>\n",
       "      <td>2.987250e+13</td>\n",
       "      <td>5642903</td>\n",
       "      <td>F</td>\n",
       "      <td>2016-04-29T18:38:08Z</td>\n",
       "      <td>2016-04-29T00:00:00Z</td>\n",
       "      <td>62</td>\n",
       "      <td>JARDIM DA PENHA</td>\n",
       "      <td>0</td>\n",
       "      <td>1</td>\n",
       "      <td>0</td>\n",
       "      <td>0</td>\n",
       "      <td>0</td>\n",
       "      <td>0</td>\n",
       "      <td>No</td>\n",
       "    </tr>\n",
       "    <tr>\n",
       "      <th>1</th>\n",
       "      <td>5.589978e+14</td>\n",
       "      <td>5642503</td>\n",
       "      <td>M</td>\n",
       "      <td>2016-04-29T16:08:27Z</td>\n",
       "      <td>2016-04-29T00:00:00Z</td>\n",
       "      <td>56</td>\n",
       "      <td>JARDIM DA PENHA</td>\n",
       "      <td>0</td>\n",
       "      <td>0</td>\n",
       "      <td>0</td>\n",
       "      <td>0</td>\n",
       "      <td>0</td>\n",
       "      <td>0</td>\n",
       "      <td>No</td>\n",
       "    </tr>\n",
       "  </tbody>\n",
       "</table>\n",
       "</div>"
      ],
      "text/plain": [
       "      PatientId  AppointmentID Gender          ScheduledDay  \\\n",
       "0  2.987250e+13        5642903      F  2016-04-29T18:38:08Z   \n",
       "1  5.589978e+14        5642503      M  2016-04-29T16:08:27Z   \n",
       "\n",
       "         AppointmentDay  Age    Neighbourhood  Scholarship  Hipertension  \\\n",
       "0  2016-04-29T00:00:00Z   62  JARDIM DA PENHA            0             1   \n",
       "1  2016-04-29T00:00:00Z   56  JARDIM DA PENHA            0             0   \n",
       "\n",
       "   Diabetes  Alcoholism  Handcap  SMS_received No-show  \n",
       "0         0           0        0             0      No  \n",
       "1         0           0        0             0      No  "
      ]
     },
     "execution_count": 2,
     "metadata": {},
     "output_type": "execute_result"
    }
   ],
   "source": [
    "#reading and loading files\n",
    "\n",
    "df = pd.read_csv(\"KaggleV2-May-2016.csv\")\n",
    "df.head(2)"
   ]
  },
  {
   "cell_type": "code",
   "execution_count": 3,
   "metadata": {},
   "outputs": [
    {
     "name": "stdout",
     "output_type": "stream",
     "text": [
      "Index(['PatientId', 'AppointmentID', 'Gender', 'ScheduledDay',\n",
      "       'AppointmentDay', 'Age', 'Neighbourhood', 'Scholarship', 'Hipertension',\n",
      "       'Diabetes', 'Alcoholism', 'Handcap', 'SMS_received', 'No-show'],\n",
      "      dtype='object')\n",
      "110527\n",
      "14\n"
     ]
    }
   ],
   "source": [
    "#checking column names and df shape\n",
    "\n",
    "print(df.columns)\n",
    "print(df.shape[0])\n",
    "print(df.shape[1])"
   ]
  },
  {
   "cell_type": "markdown",
   "metadata": {},
   "source": [
    "### Observations - \n",
    "\n",
    "- Initial database consists of 110,527 rows\n",
    "- 14 columns\n",
    "\n",
    "### Issues -\n",
    "\n",
    "- Can see typos in come column names - Hipertension, Handcap\n",
    "- Convert to CamelCase - SMS_received, No-show"
   ]
  },
  {
   "cell_type": "code",
   "execution_count": 4,
   "metadata": {},
   "outputs": [
    {
     "name": "stdout",
     "output_type": "stream",
     "text": [
      "62299 56 2\n"
     ]
    },
    {
     "data": {
      "text/plain": [
       "17.0"
      ]
     },
     "execution_count": 4,
     "metadata": {},
     "output_type": "execute_result"
    }
   ],
   "source": [
    "# checking number of unique patients\n",
    "print(df.PatientId.nunique(), \n",
    "      round(df.PatientId.nunique()/df.shape[0]*100), \n",
    "      round(df.AppointmentID.nunique()/df.PatientId.nunique()))\n",
    "\n",
    "df_summary = df.groupby(['PatientId'])['AppointmentID'].count().sort_values(ascending = False)\n",
    "round(df_summary[df_summary>2].count()/df.PatientId.nunique()*100)"
   ]
  },
  {
   "cell_type": "markdown",
   "metadata": {},
   "source": [
    "### Observations - \n",
    "\n",
    "- 56 percent of patients are unique\n",
    "- Average appointments per patient is 2 approx\n",
    "- Some patients are very regular. 17% patients have appointments greater than the average appointment"
   ]
  },
  {
   "cell_type": "code",
   "execution_count": 5,
   "metadata": {},
   "outputs": [
    {
     "data": {
      "text/html": [
       "<div>\n",
       "<style scoped>\n",
       "    .dataframe tbody tr th:only-of-type {\n",
       "        vertical-align: middle;\n",
       "    }\n",
       "\n",
       "    .dataframe tbody tr th {\n",
       "        vertical-align: top;\n",
       "    }\n",
       "\n",
       "    .dataframe thead th {\n",
       "        text-align: right;\n",
       "    }\n",
       "</style>\n",
       "<table border=\"1\" class=\"dataframe\">\n",
       "  <thead>\n",
       "    <tr style=\"text-align: right;\">\n",
       "      <th></th>\n",
       "      <th>PatientId</th>\n",
       "      <th>AppointmentID</th>\n",
       "      <th>Age</th>\n",
       "      <th>Scholarship</th>\n",
       "      <th>Hipertension</th>\n",
       "      <th>Diabetes</th>\n",
       "      <th>Alcoholism</th>\n",
       "      <th>Handcap</th>\n",
       "      <th>SMS_received</th>\n",
       "    </tr>\n",
       "  </thead>\n",
       "  <tbody>\n",
       "    <tr>\n",
       "      <th>count</th>\n",
       "      <td>1.105270e+05</td>\n",
       "      <td>1.105270e+05</td>\n",
       "      <td>110527.000000</td>\n",
       "      <td>110527.000000</td>\n",
       "      <td>110527.000000</td>\n",
       "      <td>110527.000000</td>\n",
       "      <td>110527.000000</td>\n",
       "      <td>110527.000000</td>\n",
       "      <td>110527.000000</td>\n",
       "    </tr>\n",
       "    <tr>\n",
       "      <th>mean</th>\n",
       "      <td>1.474963e+14</td>\n",
       "      <td>5.675305e+06</td>\n",
       "      <td>37.088874</td>\n",
       "      <td>0.098266</td>\n",
       "      <td>0.197246</td>\n",
       "      <td>0.071865</td>\n",
       "      <td>0.030400</td>\n",
       "      <td>0.022248</td>\n",
       "      <td>0.321026</td>\n",
       "    </tr>\n",
       "    <tr>\n",
       "      <th>std</th>\n",
       "      <td>2.560949e+14</td>\n",
       "      <td>7.129575e+04</td>\n",
       "      <td>23.110205</td>\n",
       "      <td>0.297675</td>\n",
       "      <td>0.397921</td>\n",
       "      <td>0.258265</td>\n",
       "      <td>0.171686</td>\n",
       "      <td>0.161543</td>\n",
       "      <td>0.466873</td>\n",
       "    </tr>\n",
       "    <tr>\n",
       "      <th>min</th>\n",
       "      <td>3.921784e+04</td>\n",
       "      <td>5.030230e+06</td>\n",
       "      <td>-1.000000</td>\n",
       "      <td>0.000000</td>\n",
       "      <td>0.000000</td>\n",
       "      <td>0.000000</td>\n",
       "      <td>0.000000</td>\n",
       "      <td>0.000000</td>\n",
       "      <td>0.000000</td>\n",
       "    </tr>\n",
       "    <tr>\n",
       "      <th>25%</th>\n",
       "      <td>4.172614e+12</td>\n",
       "      <td>5.640286e+06</td>\n",
       "      <td>18.000000</td>\n",
       "      <td>0.000000</td>\n",
       "      <td>0.000000</td>\n",
       "      <td>0.000000</td>\n",
       "      <td>0.000000</td>\n",
       "      <td>0.000000</td>\n",
       "      <td>0.000000</td>\n",
       "    </tr>\n",
       "    <tr>\n",
       "      <th>50%</th>\n",
       "      <td>3.173184e+13</td>\n",
       "      <td>5.680573e+06</td>\n",
       "      <td>37.000000</td>\n",
       "      <td>0.000000</td>\n",
       "      <td>0.000000</td>\n",
       "      <td>0.000000</td>\n",
       "      <td>0.000000</td>\n",
       "      <td>0.000000</td>\n",
       "      <td>0.000000</td>\n",
       "    </tr>\n",
       "    <tr>\n",
       "      <th>75%</th>\n",
       "      <td>9.439172e+13</td>\n",
       "      <td>5.725524e+06</td>\n",
       "      <td>55.000000</td>\n",
       "      <td>0.000000</td>\n",
       "      <td>0.000000</td>\n",
       "      <td>0.000000</td>\n",
       "      <td>0.000000</td>\n",
       "      <td>0.000000</td>\n",
       "      <td>1.000000</td>\n",
       "    </tr>\n",
       "    <tr>\n",
       "      <th>max</th>\n",
       "      <td>9.999816e+14</td>\n",
       "      <td>5.790484e+06</td>\n",
       "      <td>115.000000</td>\n",
       "      <td>1.000000</td>\n",
       "      <td>1.000000</td>\n",
       "      <td>1.000000</td>\n",
       "      <td>1.000000</td>\n",
       "      <td>4.000000</td>\n",
       "      <td>1.000000</td>\n",
       "    </tr>\n",
       "  </tbody>\n",
       "</table>\n",
       "</div>"
      ],
      "text/plain": [
       "          PatientId  AppointmentID            Age    Scholarship  \\\n",
       "count  1.105270e+05   1.105270e+05  110527.000000  110527.000000   \n",
       "mean   1.474963e+14   5.675305e+06      37.088874       0.098266   \n",
       "std    2.560949e+14   7.129575e+04      23.110205       0.297675   \n",
       "min    3.921784e+04   5.030230e+06      -1.000000       0.000000   \n",
       "25%    4.172614e+12   5.640286e+06      18.000000       0.000000   \n",
       "50%    3.173184e+13   5.680573e+06      37.000000       0.000000   \n",
       "75%    9.439172e+13   5.725524e+06      55.000000       0.000000   \n",
       "max    9.999816e+14   5.790484e+06     115.000000       1.000000   \n",
       "\n",
       "        Hipertension       Diabetes     Alcoholism        Handcap  \\\n",
       "count  110527.000000  110527.000000  110527.000000  110527.000000   \n",
       "mean        0.197246       0.071865       0.030400       0.022248   \n",
       "std         0.397921       0.258265       0.171686       0.161543   \n",
       "min         0.000000       0.000000       0.000000       0.000000   \n",
       "25%         0.000000       0.000000       0.000000       0.000000   \n",
       "50%         0.000000       0.000000       0.000000       0.000000   \n",
       "75%         0.000000       0.000000       0.000000       0.000000   \n",
       "max         1.000000       1.000000       1.000000       4.000000   \n",
       "\n",
       "        SMS_received  \n",
       "count  110527.000000  \n",
       "mean        0.321026  \n",
       "std         0.466873  \n",
       "min         0.000000  \n",
       "25%         0.000000  \n",
       "50%         0.000000  \n",
       "75%         1.000000  \n",
       "max         1.000000  "
      ]
     },
     "execution_count": 5,
     "metadata": {},
     "output_type": "execute_result"
    }
   ],
   "source": [
    "df.describe()"
   ]
  },
  {
   "cell_type": "markdown",
   "metadata": {},
   "source": [
    "### Observations - \n",
    "\n",
    "- Mean age 37\n",
    "- 9% have scholarships\n",
    "- 19% have hypertension\n",
    "- 7% have diabeties\n",
    "- 3% have Alcoholism\n",
    "- 32% received SMS"
   ]
  },
  {
   "cell_type": "code",
   "execution_count": 6,
   "metadata": {},
   "outputs": [
    {
     "name": "stdout",
     "output_type": "stream",
     "text": [
      "[-1, 0, 1, 2, 3, 4, 5, 6, 7, 8, 9, 10, 11, 12, 13, 14, 15, 16, 17, 18, 19, 20, 21, 22, 23, 24, 25, 26, 27, 28, 29, 30, 31, 32, 33, 34, 35, 36, 37, 38, 39, 40, 41, 42, 43, 44, 45, 46, 47, 48, 49, 50, 51, 52, 53, 54, 55, 56, 57, 58, 59, 60, 61, 62, 63, 64, 65, 66, 67, 68, 69, 70, 71, 72, 73, 74, 75, 76, 77, 78, 79, 80, 81, 82, 83, 84, 85, 86, 87, 88, 89, 90, 91, 92, 93, 94, 95, 96, 97, 98, 99, 100, 102, 115]\n",
      "[0, 1, 2, 3, 4]\n"
     ]
    }
   ],
   "source": [
    "# checking other columns\n",
    "print(sorted(df.Age.unique()))\n",
    "print(sorted(df.Handcap.unique()))"
   ]
  },
  {
   "cell_type": "code",
   "execution_count": 7,
   "metadata": {},
   "outputs": [
    {
     "name": "stdout",
     "output_type": "stream",
     "text": [
      "0\n"
     ]
    },
    {
     "data": {
      "text/plain": [
       "0"
      ]
     },
     "execution_count": 7,
     "metadata": {},
     "output_type": "execute_result"
    }
   ],
   "source": [
    "print(df.isnull().sum().sum())\n",
    "df.duplicated().sum()"
   ]
  },
  {
   "cell_type": "markdown",
   "metadata": {},
   "source": [
    "### Observations\n",
    "\n",
    "- Remove errors and outliers in Age\n",
    "- In data set instructions they have mentioned that 2,3,4 refer to the number of disabilities (Not an error)\n",
    "- zero null and duplicated values"
   ]
  },
  {
   "cell_type": "code",
   "execution_count": 8,
   "metadata": {},
   "outputs": [
    {
     "data": {
      "text/plain": [
       "PatientId         float64\n",
       "AppointmentID       int64\n",
       "Gender             object\n",
       "ScheduledDay       object\n",
       "AppointmentDay     object\n",
       "Age                 int64\n",
       "Neighbourhood      object\n",
       "Scholarship         int64\n",
       "Hipertension        int64\n",
       "Diabetes            int64\n",
       "Alcoholism          int64\n",
       "Handcap             int64\n",
       "SMS_received        int64\n",
       "No-show            object\n",
       "dtype: object"
      ]
     },
     "execution_count": 8,
     "metadata": {},
     "output_type": "execute_result"
    }
   ],
   "source": [
    "df.dtypes"
   ]
  },
  {
   "cell_type": "markdown",
   "metadata": {},
   "source": [
    "<a id='2'></a>\n",
    "## Step 2 - Data Wrangling\n",
    "\n",
    "We can observe that following corrections are required to the dataframe.\n",
    "\n",
    "- renaming column (discussed above in detail)\n",
    "- assigning appropriate datatypes to columns \n",
    "    - PatientId to int\n",
    "    - ScheduledDay, AppointmentDay to datetime\n",
    "    - Change 2, 3, 4 values in handicap to 1\n",
    "    - Change NoShow to 0 and 1 and astype int\n",
    "    - Remove oulier and error from age"
   ]
  },
  {
   "cell_type": "code",
   "execution_count": 9,
   "metadata": {},
   "outputs": [],
   "source": [
    "df.PatientId = df.PatientId.astype(int)"
   ]
  },
  {
   "cell_type": "code",
   "execution_count": 10,
   "metadata": {},
   "outputs": [],
   "source": [
    "#removing typos from columns\n",
    "df.rename(columns={'Hipertension' : 'Hypertension',\n",
    "                   'Handcap' : 'Handicap',\n",
    "                   'SMS_received' : 'SmsReceived',\n",
    "                   'No-show' : 'NoShow'}, inplace = True)"
   ]
  },
  {
   "cell_type": "code",
   "execution_count": 11,
   "metadata": {},
   "outputs": [],
   "source": [
    "df['NoShow'] = df['NoShow'].replace(['No'], 0)\n",
    "df['NoShow'] = df['NoShow'].replace(['Yes'], 1)\n",
    "df['NoShow'] = df['NoShow'].astype(int)"
   ]
  },
  {
   "cell_type": "code",
   "execution_count": 12,
   "metadata": {},
   "outputs": [],
   "source": [
    "df['ScheduledDay'] = pd.to_datetime(df['ScheduledDay'])\n",
    "df['AppointmentDay'] = pd.to_datetime(df['AppointmentDay'])"
   ]
  },
  {
   "cell_type": "code",
   "execution_count": 13,
   "metadata": {},
   "outputs": [
    {
     "data": {
      "text/plain": [
       "PatientId                       int64\n",
       "AppointmentID                   int64\n",
       "Gender                         object\n",
       "ScheduledDay      datetime64[ns, UTC]\n",
       "AppointmentDay    datetime64[ns, UTC]\n",
       "Age                             int64\n",
       "Neighbourhood                  object\n",
       "Scholarship                     int64\n",
       "Hypertension                    int64\n",
       "Diabetes                        int64\n",
       "Alcoholism                      int64\n",
       "Handicap                        int64\n",
       "SmsReceived                     int64\n",
       "NoShow                          int64\n",
       "dtype: object"
      ]
     },
     "execution_count": 13,
     "metadata": {},
     "output_type": "execute_result"
    }
   ],
   "source": [
    "df.dtypes"
   ]
  },
  {
   "cell_type": "code",
   "execution_count": 14,
   "metadata": {},
   "outputs": [],
   "source": [
    "df['Handicap'] = df['Handicap'].replace([2], 1)\n",
    "df['Handicap'] = df['Handicap'].replace([3], 1)\n",
    "df['Handicap'] = df['Handicap'].replace([4], 1)"
   ]
  },
  {
   "cell_type": "code",
   "execution_count": 15,
   "metadata": {},
   "outputs": [
    {
     "data": {
      "text/plain": [
       "array([0, 1])"
      ]
     },
     "execution_count": 15,
     "metadata": {},
     "output_type": "execute_result"
    }
   ],
   "source": [
    "df['Handicap'].unique()"
   ]
  },
  {
   "cell_type": "markdown",
   "metadata": {},
   "source": [
    "### Convert date column to discrete variables\n",
    "\n",
    "- ScheduledDay can be converted to day of week, hour of day\n",
    "- AppointmentDay can be converted to day of week\n",
    "- WaitTime = ScheduledDay - AppointmentDay\n",
    "- Time delta (WaitTime) can be converted to hours value\n",
    "\n",
    "Since we have dates in correct format now, let's start with exploring those columns first."
   ]
  },
  {
   "cell_type": "code",
   "execution_count": 16,
   "metadata": {},
   "outputs": [
    {
     "name": "stdout",
     "output_type": "stream",
     "text": [
      "count                        110527\n",
      "unique                       103549\n",
      "top       2016-05-06 07:09:54+00:00\n",
      "freq                             24\n",
      "first     2015-11-10 07:13:56+00:00\n",
      "last      2016-06-08 20:07:23+00:00\n",
      "Name: ScheduledDay, dtype: object\n"
     ]
    },
    {
     "data": {
      "text/plain": [
       "count                        110527\n",
       "unique                           27\n",
       "top       2016-06-06 00:00:00+00:00\n",
       "freq                           4692\n",
       "first     2016-04-29 00:00:00+00:00\n",
       "last      2016-06-08 00:00:00+00:00\n",
       "Name: AppointmentDay, dtype: object"
      ]
     },
     "execution_count": 16,
     "metadata": {},
     "output_type": "execute_result"
    }
   ],
   "source": [
    "print(df.ScheduledDay.describe())\n",
    "df.AppointmentDay.describe()"
   ]
  },
  {
   "cell_type": "markdown",
   "metadata": {},
   "source": [
    "### Observations\n",
    "\n",
    "- ScheduledDay dates start from 2015-11-10 and end on 2016-06-08\n",
    "- AppointmentDay dates start from 2016-04-29 and end on 2016-06-08 \n",
    "\n",
    "There seems to be an error in this dataframe. It contains ScheduledDay dates even before AppointmentDay dates.\n",
    "You cannot book appointment in the past."
   ]
  },
  {
   "cell_type": "code",
   "execution_count": 17,
   "metadata": {},
   "outputs": [
    {
     "data": {
      "text/plain": [
       "(38568, 14)"
      ]
     },
     "execution_count": 17,
     "metadata": {},
     "output_type": "execute_result"
    }
   ],
   "source": [
    "#removing error entries from data\n",
    "df[df['AppointmentDay'] > df['ScheduledDay']].count()['PatientId']\n",
    "\n",
    "# 71959 contains ScheduledDay dates even before AppointmentDay dates. You cannot book appointment in the past.\n",
    "# cleaning dataframe by removing these rows\n",
    "\n",
    "df = df[df['AppointmentDay'] <= df['ScheduledDay']]\n",
    "df.shape"
   ]
  },
  {
   "cell_type": "code",
   "execution_count": 18,
   "metadata": {},
   "outputs": [],
   "source": [
    "df['AppointmentDow'] = df['AppointmentDay'].dt.dayofweek\n",
    "df['ScheduledDow'] = df['ScheduledDay'].dt.dayofweek\n",
    "df['ScheduledHod'] = df['ScheduledDay'].dt.hour\n",
    "df['WaitTime'] = df['ScheduledDay'] - df['AppointmentDay']"
   ]
  },
  {
   "cell_type": "code",
   "execution_count": 19,
   "metadata": {},
   "outputs": [],
   "source": [
    "#removing outliers from age \n",
    "df = df[(df['Age'] >= 1) & (df['Age'] <= 100)]"
   ]
  },
  {
   "cell_type": "code",
   "execution_count": 20,
   "metadata": {},
   "outputs": [
    {
     "name": "stdout",
     "output_type": "stream",
     "text": [
      "(37157, 18)\n"
     ]
    },
    {
     "data": {
      "text/html": [
       "<div>\n",
       "<style scoped>\n",
       "    .dataframe tbody tr th:only-of-type {\n",
       "        vertical-align: middle;\n",
       "    }\n",
       "\n",
       "    .dataframe tbody tr th {\n",
       "        vertical-align: top;\n",
       "    }\n",
       "\n",
       "    .dataframe thead th {\n",
       "        text-align: right;\n",
       "    }\n",
       "</style>\n",
       "<table border=\"1\" class=\"dataframe\">\n",
       "  <thead>\n",
       "    <tr style=\"text-align: right;\">\n",
       "      <th></th>\n",
       "      <th>PatientId</th>\n",
       "      <th>AppointmentID</th>\n",
       "      <th>Gender</th>\n",
       "      <th>ScheduledDay</th>\n",
       "      <th>AppointmentDay</th>\n",
       "      <th>Age</th>\n",
       "      <th>Neighbourhood</th>\n",
       "      <th>Scholarship</th>\n",
       "      <th>Hypertension</th>\n",
       "      <th>Diabetes</th>\n",
       "      <th>Alcoholism</th>\n",
       "      <th>Handicap</th>\n",
       "      <th>SmsReceived</th>\n",
       "      <th>NoShow</th>\n",
       "      <th>AppointmentDow</th>\n",
       "      <th>ScheduledDow</th>\n",
       "      <th>ScheduledHod</th>\n",
       "      <th>WaitTime</th>\n",
       "    </tr>\n",
       "  </thead>\n",
       "  <tbody>\n",
       "    <tr>\n",
       "      <th>0</th>\n",
       "      <td>29872499824296</td>\n",
       "      <td>5642903</td>\n",
       "      <td>F</td>\n",
       "      <td>2016-04-29 18:38:08+00:00</td>\n",
       "      <td>2016-04-29 00:00:00+00:00</td>\n",
       "      <td>62</td>\n",
       "      <td>JARDIM DA PENHA</td>\n",
       "      <td>0</td>\n",
       "      <td>1</td>\n",
       "      <td>0</td>\n",
       "      <td>0</td>\n",
       "      <td>0</td>\n",
       "      <td>0</td>\n",
       "      <td>0</td>\n",
       "      <td>4</td>\n",
       "      <td>4</td>\n",
       "      <td>18</td>\n",
       "      <td>18:38:08</td>\n",
       "    </tr>\n",
       "    <tr>\n",
       "      <th>1</th>\n",
       "      <td>558997776694438</td>\n",
       "      <td>5642503</td>\n",
       "      <td>M</td>\n",
       "      <td>2016-04-29 16:08:27+00:00</td>\n",
       "      <td>2016-04-29 00:00:00+00:00</td>\n",
       "      <td>56</td>\n",
       "      <td>JARDIM DA PENHA</td>\n",
       "      <td>0</td>\n",
       "      <td>0</td>\n",
       "      <td>0</td>\n",
       "      <td>0</td>\n",
       "      <td>0</td>\n",
       "      <td>0</td>\n",
       "      <td>0</td>\n",
       "      <td>4</td>\n",
       "      <td>4</td>\n",
       "      <td>16</td>\n",
       "      <td>16:08:27</td>\n",
       "    </tr>\n",
       "  </tbody>\n",
       "</table>\n",
       "</div>"
      ],
      "text/plain": [
       "         PatientId  AppointmentID Gender              ScheduledDay  \\\n",
       "0   29872499824296        5642903      F 2016-04-29 18:38:08+00:00   \n",
       "1  558997776694438        5642503      M 2016-04-29 16:08:27+00:00   \n",
       "\n",
       "             AppointmentDay  Age    Neighbourhood  Scholarship  Hypertension  \\\n",
       "0 2016-04-29 00:00:00+00:00   62  JARDIM DA PENHA            0             1   \n",
       "1 2016-04-29 00:00:00+00:00   56  JARDIM DA PENHA            0             0   \n",
       "\n",
       "   Diabetes  Alcoholism  Handicap  SmsReceived  NoShow  AppointmentDow  \\\n",
       "0         0           0         0            0       0               4   \n",
       "1         0           0         0            0       0               4   \n",
       "\n",
       "   ScheduledDow  ScheduledHod WaitTime  \n",
       "0             4            18 18:38:08  \n",
       "1             4            16 16:08:27  "
      ]
     },
     "execution_count": 20,
     "metadata": {},
     "output_type": "execute_result"
    }
   ],
   "source": [
    "print(df.shape)\n",
    "df.head(2)"
   ]
  },
  {
   "cell_type": "markdown",
   "metadata": {},
   "source": [
    "### Notes -\n",
    "\n",
    "- completed data wrangling\n",
    "- explore Neighbourhood feature now below"
   ]
  },
  {
   "cell_type": "code",
   "execution_count": 21,
   "metadata": {},
   "outputs": [
    {
     "name": "stdout",
     "output_type": "stream",
     "text": [
      "JARDIM CAMBURI       2457\n",
      "MARIA ORTIZ          1984\n",
      "RESISTÊNCIA          1546\n",
      "SANTA MARTHA         1437\n",
      "JARDIM DA PENHA      1212\n",
      "                     ... \n",
      "MORADA DE CAMBURI      18\n",
      "ILHA DO BOI            12\n",
      "AEROPORTO               3\n",
      "ILHA DO FRADE           2\n",
      "PARQUE INDUSTRIAL       1\n",
      "Name: Neighbourhood, Length: 80, dtype: int64\n"
     ]
    }
   ],
   "source": [
    "#print(df.Neighbourhood.nunique())\n",
    "#print(df.Neighbourhood.unique())\n",
    "print(df.Neighbourhood.value_counts())"
   ]
  },
  {
   "cell_type": "markdown",
   "metadata": {},
   "source": [
    "### Observations -\n",
    "\n",
    "- Neighbourhood has 80 unique values\n",
    "- JARDIM CAMBURI occurs 2457 times in df"
   ]
  },
  {
   "cell_type": "markdown",
   "metadata": {},
   "source": [
    "<a id='3'></a>\n",
    "## Step 3 - Analysing and Vizualizing Data"
   ]
  },
  {
   "cell_type": "code",
   "execution_count": 22,
   "metadata": {},
   "outputs": [
    {
     "data": {
      "text/html": [
       "<div>\n",
       "<style scoped>\n",
       "    .dataframe tbody tr th:only-of-type {\n",
       "        vertical-align: middle;\n",
       "    }\n",
       "\n",
       "    .dataframe tbody tr th {\n",
       "        vertical-align: top;\n",
       "    }\n",
       "\n",
       "    .dataframe thead th {\n",
       "        text-align: right;\n",
       "    }\n",
       "</style>\n",
       "<table border=\"1\" class=\"dataframe\">\n",
       "  <thead>\n",
       "    <tr style=\"text-align: right;\">\n",
       "      <th></th>\n",
       "      <th>PatientId</th>\n",
       "      <th>AppointmentID</th>\n",
       "      <th>Age</th>\n",
       "      <th>Scholarship</th>\n",
       "      <th>Hypertension</th>\n",
       "      <th>Diabetes</th>\n",
       "      <th>Alcoholism</th>\n",
       "      <th>Handicap</th>\n",
       "      <th>SmsReceived</th>\n",
       "      <th>NoShow</th>\n",
       "      <th>AppointmentDow</th>\n",
       "      <th>ScheduledDow</th>\n",
       "      <th>ScheduledHod</th>\n",
       "      <th>WaitTime</th>\n",
       "    </tr>\n",
       "  </thead>\n",
       "  <tbody>\n",
       "    <tr>\n",
       "      <th>count</th>\n",
       "      <td>3.715700e+04</td>\n",
       "      <td>3.715700e+04</td>\n",
       "      <td>37157.000000</td>\n",
       "      <td>37157.000000</td>\n",
       "      <td>37157.000000</td>\n",
       "      <td>37157.000000</td>\n",
       "      <td>37157.000000</td>\n",
       "      <td>37157.000000</td>\n",
       "      <td>37157.0</td>\n",
       "      <td>37157.00000</td>\n",
       "      <td>37157.000000</td>\n",
       "      <td>37157.000000</td>\n",
       "      <td>37157.000000</td>\n",
       "      <td>37157</td>\n",
       "    </tr>\n",
       "    <tr>\n",
       "      <th>mean</th>\n",
       "      <td>1.511894e+14</td>\n",
       "      <td>5.713163e+06</td>\n",
       "      <td>35.753694</td>\n",
       "      <td>0.112092</td>\n",
       "      <td>0.182173</td>\n",
       "      <td>0.069058</td>\n",
       "      <td>0.041392</td>\n",
       "      <td>0.025083</td>\n",
       "      <td>0.0</td>\n",
       "      <td>0.04699</td>\n",
       "      <td>1.835993</td>\n",
       "      <td>1.836074</td>\n",
       "      <td>10.231423</td>\n",
       "      <td>0 days 10:43:12.679118</td>\n",
       "    </tr>\n",
       "    <tr>\n",
       "      <th>std</th>\n",
       "      <td>2.601172e+14</td>\n",
       "      <td>4.419351e+04</td>\n",
       "      <td>22.644121</td>\n",
       "      <td>0.315484</td>\n",
       "      <td>0.385992</td>\n",
       "      <td>0.253557</td>\n",
       "      <td>0.199198</td>\n",
       "      <td>0.156379</td>\n",
       "      <td>0.0</td>\n",
       "      <td>0.21162</td>\n",
       "      <td>1.371045</td>\n",
       "      <td>1.371006</td>\n",
       "      <td>3.032430</td>\n",
       "      <td>0 days 03:08:35.774852</td>\n",
       "    </tr>\n",
       "    <tr>\n",
       "      <th>min</th>\n",
       "      <td>4.374100e+04</td>\n",
       "      <td>5.637406e+06</td>\n",
       "      <td>1.000000</td>\n",
       "      <td>0.000000</td>\n",
       "      <td>0.000000</td>\n",
       "      <td>0.000000</td>\n",
       "      <td>0.000000</td>\n",
       "      <td>0.000000</td>\n",
       "      <td>0.0</td>\n",
       "      <td>0.00000</td>\n",
       "      <td>0.000000</td>\n",
       "      <td>0.000000</td>\n",
       "      <td>6.000000</td>\n",
       "      <td>0 days 06:09:36</td>\n",
       "    </tr>\n",
       "    <tr>\n",
       "      <th>25%</th>\n",
       "      <td>4.351389e+12</td>\n",
       "      <td>5.674926e+06</td>\n",
       "      <td>17.000000</td>\n",
       "      <td>0.000000</td>\n",
       "      <td>0.000000</td>\n",
       "      <td>0.000000</td>\n",
       "      <td>0.000000</td>\n",
       "      <td>0.000000</td>\n",
       "      <td>0.0</td>\n",
       "      <td>0.00000</td>\n",
       "      <td>1.000000</td>\n",
       "      <td>1.000000</td>\n",
       "      <td>8.000000</td>\n",
       "      <td>0 days 08:07:36</td>\n",
       "    </tr>\n",
       "    <tr>\n",
       "      <th>50%</th>\n",
       "      <td>3.315546e+13</td>\n",
       "      <td>5.710934e+06</td>\n",
       "      <td>35.000000</td>\n",
       "      <td>0.000000</td>\n",
       "      <td>0.000000</td>\n",
       "      <td>0.000000</td>\n",
       "      <td>0.000000</td>\n",
       "      <td>0.000000</td>\n",
       "      <td>0.0</td>\n",
       "      <td>0.00000</td>\n",
       "      <td>2.000000</td>\n",
       "      <td>2.000000</td>\n",
       "      <td>9.000000</td>\n",
       "      <td>0 days 09:46:53</td>\n",
       "    </tr>\n",
       "    <tr>\n",
       "      <th>75%</th>\n",
       "      <td>9.522815e+13</td>\n",
       "      <td>5.752163e+06</td>\n",
       "      <td>53.000000</td>\n",
       "      <td>0.000000</td>\n",
       "      <td>0.000000</td>\n",
       "      <td>0.000000</td>\n",
       "      <td>0.000000</td>\n",
       "      <td>0.000000</td>\n",
       "      <td>0.0</td>\n",
       "      <td>0.00000</td>\n",
       "      <td>3.000000</td>\n",
       "      <td>3.000000</td>\n",
       "      <td>13.000000</td>\n",
       "      <td>0 days 13:17:19</td>\n",
       "    </tr>\n",
       "    <tr>\n",
       "      <th>max</th>\n",
       "      <td>9.999816e+14</td>\n",
       "      <td>5.790484e+06</td>\n",
       "      <td>99.000000</td>\n",
       "      <td>1.000000</td>\n",
       "      <td>1.000000</td>\n",
       "      <td>1.000000</td>\n",
       "      <td>1.000000</td>\n",
       "      <td>1.000000</td>\n",
       "      <td>0.0</td>\n",
       "      <td>1.00000</td>\n",
       "      <td>5.000000</td>\n",
       "      <td>5.000000</td>\n",
       "      <td>20.000000</td>\n",
       "      <td>6 days 13:49:20</td>\n",
       "    </tr>\n",
       "  </tbody>\n",
       "</table>\n",
       "</div>"
      ],
      "text/plain": [
       "          PatientId  AppointmentID           Age   Scholarship  Hypertension  \\\n",
       "count  3.715700e+04   3.715700e+04  37157.000000  37157.000000  37157.000000   \n",
       "mean   1.511894e+14   5.713163e+06     35.753694      0.112092      0.182173   \n",
       "std    2.601172e+14   4.419351e+04     22.644121      0.315484      0.385992   \n",
       "min    4.374100e+04   5.637406e+06      1.000000      0.000000      0.000000   \n",
       "25%    4.351389e+12   5.674926e+06     17.000000      0.000000      0.000000   \n",
       "50%    3.315546e+13   5.710934e+06     35.000000      0.000000      0.000000   \n",
       "75%    9.522815e+13   5.752163e+06     53.000000      0.000000      0.000000   \n",
       "max    9.999816e+14   5.790484e+06     99.000000      1.000000      1.000000   \n",
       "\n",
       "           Diabetes    Alcoholism      Handicap  SmsReceived       NoShow  \\\n",
       "count  37157.000000  37157.000000  37157.000000      37157.0  37157.00000   \n",
       "mean       0.069058      0.041392      0.025083          0.0      0.04699   \n",
       "std        0.253557      0.199198      0.156379          0.0      0.21162   \n",
       "min        0.000000      0.000000      0.000000          0.0      0.00000   \n",
       "25%        0.000000      0.000000      0.000000          0.0      0.00000   \n",
       "50%        0.000000      0.000000      0.000000          0.0      0.00000   \n",
       "75%        0.000000      0.000000      0.000000          0.0      0.00000   \n",
       "max        1.000000      1.000000      1.000000          0.0      1.00000   \n",
       "\n",
       "       AppointmentDow  ScheduledDow  ScheduledHod                WaitTime  \n",
       "count    37157.000000  37157.000000  37157.000000                   37157  \n",
       "mean         1.835993      1.836074     10.231423  0 days 10:43:12.679118  \n",
       "std          1.371045      1.371006      3.032430  0 days 03:08:35.774852  \n",
       "min          0.000000      0.000000      6.000000         0 days 06:09:36  \n",
       "25%          1.000000      1.000000      8.000000         0 days 08:07:36  \n",
       "50%          2.000000      2.000000      9.000000         0 days 09:46:53  \n",
       "75%          3.000000      3.000000     13.000000         0 days 13:17:19  \n",
       "max          5.000000      5.000000     20.000000         6 days 13:49:20  "
      ]
     },
     "execution_count": 22,
     "metadata": {},
     "output_type": "execute_result"
    }
   ],
   "source": [
    "df.describe()"
   ]
  },
  {
   "cell_type": "code",
   "execution_count": 23,
   "metadata": {},
   "outputs": [
    {
     "name": "stdout",
     "output_type": "stream",
     "text": [
      "26265 71 1\n"
     ]
    },
    {
     "data": {
      "text/plain": [
       "7.0"
      ]
     },
     "execution_count": 23,
     "metadata": {},
     "output_type": "execute_result"
    }
   ],
   "source": [
    "# checking number of unique patients\n",
    "print(df.PatientId.nunique(), \n",
    "      round(df.PatientId.nunique()/df.shape[0]*100), \n",
    "      round(df.AppointmentID.nunique()/df.PatientId.nunique()))\n",
    "\n",
    "df_summary = df.groupby(['PatientId'])['AppointmentID'].count().sort_values(ascending = False)\n",
    "round(df_summary[df_summary>2].count()/df.PatientId.nunique()*100)"
   ]
  },
  {
   "cell_type": "markdown",
   "metadata": {},
   "source": [
    "### Clean vs Original Data set\n",
    "\n",
    "#### Original observations\n",
    "- 56 percent of patients are unique\n",
    "- Average appointments per patient is 2 approx\n",
    "- Some patients are very regular. 17% patients have appointments greater than the average appointment\n",
    "- Mean age 37\n",
    "- 9% have scholarships\n",
    "- 19% have hypertension\n",
    "- 7% have diabeties\n",
    "- 3% have Alcoholism\n",
    "- 32% received SMS\n",
    "\n",
    "#### Observations on clean data set \n",
    "- 71 percent of patients are unique\n",
    "- Average appointments per patient is 2 approx\n",
    "- Some patients are regular. 7% patients have appointments greater than the average appointment\n",
    "- 0% received SMS\n",
    "- No major changes in other variables"
   ]
  },
  {
   "cell_type": "code",
   "execution_count": 24,
   "metadata": {},
   "outputs": [
    {
     "data": {
      "text/plain": [
       "5"
      ]
     },
     "execution_count": 24,
     "metadata": {},
     "output_type": "execute_result"
    }
   ],
   "source": [
    "# wait time hours impact on show or no show\n",
    "# note - 0 is show and 1 is no show\n",
    "# no show rate is -> sum/allcount\n",
    "# mean of bool is sum divided by total *100 is the rate use groupby and mean\n",
    "# basic no show rate\n",
    "#print(round(df.NoShow.sum()/df.shape[0]*100))\n",
    "\n",
    "round(df.NoShow.mean()*100)"
   ]
  },
  {
   "cell_type": "code",
   "execution_count": 25,
   "metadata": {},
   "outputs": [
    {
     "data": {
      "text/plain": [
       "<matplotlib.axes._subplots.AxesSubplot at 0x7fc9165c60b8>"
      ]
     },
     "execution_count": 25,
     "metadata": {},
     "output_type": "execute_result"
    },
    {
     "data": {
      "image/png": "[encoded data removed]",
      "text/plain": [
       "<Figure size 432x288 with 1 Axes>"
      ]
     },
     "metadata": {},
     "output_type": "display_data"
    }
   ],
   "source": [
    "# age brackets\n",
    "'''\n",
    "1-20\n",
    "21-40\n",
    "41-60\n",
    "61-80\n",
    "81-100\n",
    "'''\n",
    "df.Age.hist()"
   ]
  },
  {
   "cell_type": "code",
   "execution_count": 26,
   "metadata": {},
   "outputs": [
    {
     "data": {
      "text/plain": [
       "0         61-80\n",
       "1         41-60\n",
       "2         61-80\n",
       "3          1-20\n",
       "4         41-60\n",
       "          ...  \n",
       "110511     1-20\n",
       "110512    41-60\n",
       "110513     1-20\n",
       "110514    41-60\n",
       "110517     1-20\n",
       "Name: AgeBracket, Length: 37157, dtype: object"
      ]
     },
     "execution_count": 26,
     "metadata": {},
     "output_type": "execute_result"
    }
   ],
   "source": [
    "#creating a new column of age groups \n",
    "\n",
    "def age_brackets(x):\n",
    "    if ((x >= 1) & (x <= 20)):\n",
    "        y = \"1-20\"\n",
    "    elif ((x >= 21) & (x <= 40)):\n",
    "        y = \"21-40\"\n",
    "    elif ((x >= 41) & (x <= 60)):\n",
    "        y = \"41-60\"\n",
    "    elif ((x >= 61) & (x <= 80)):\n",
    "        y = \"61-80\"\n",
    "    elif ((x >= 81) & (x <= 100)):\n",
    "        y = \"81-100\"\n",
    "    return y\n",
    "        \n",
    "df['AgeBracket'] = df.Age.apply(age_brackets)\n",
    "df['AgeBracket']"
   ]
  },
  {
   "cell_type": "code",
   "execution_count": 27,
   "metadata": {},
   "outputs": [],
   "source": [
    "# issue - appointmentid is not properly camelcased\n",
    "df.rename(columns = {'AppointmentID': 'AppointmentId'}, inplace = True)"
   ]
  },
  {
   "cell_type": "code",
   "execution_count": 28,
   "metadata": {},
   "outputs": [
    {
     "name": "stdout",
     "output_type": "stream",
     "text": [
      "99637671331        81\n",
      "822145925426128    80\n",
      "26886125921145     68\n",
      "33534783483176     65\n",
      "258424392677       61\n",
      "                   ..\n",
      "33319242582744      1\n",
      "526546936398477     1\n",
      "781164975242555     1\n",
      "85852445534473      1\n",
      "57863365759569      1\n",
      "Name: PatientId, Length: 26265, dtype: int64\n"
     ]
    }
   ],
   "source": [
    "#creating a new column of patient type based on number of appointments\n",
    "\n",
    "patient_appointments = df.PatientId.value_counts()\n",
    "print(patient_appointments)\n",
    "\n",
    "def patient_type(x):\n",
    "    z = patient_appointments\n",
    "    if ((z[x] >= 2) & (z[x] <= 10)):\n",
    "        r = \"2-10\"\n",
    "    elif ((z[x] >= 11) & (z[x] <= 30)):\n",
    "        r = \"11-30\"\n",
    "    elif ((z[x] >= 31) & (z[x] <= 50)):\n",
    "        r = \"31-50\"\n",
    "    elif ((z[x] >= 51) & (z[x] <= 70)):\n",
    "        r = \"51-70\"\n",
    "    elif ((z[x] >= 71) & (z[x] <= 90)):\n",
    "        r = \"71-90\"\n",
    "    elif ((z[x] >= 0) & (z[x] <= 1)):\n",
    "        r = \"0-1\"\n",
    "    return r"
   ]
  },
  {
   "cell_type": "code",
   "execution_count": 29,
   "metadata": {},
   "outputs": [],
   "source": [
    "df['PatientType'] = df.PatientId.apply(patient_type)"
   ]
  },
  {
   "cell_type": "code",
   "execution_count": 30,
   "metadata": {},
   "outputs": [],
   "source": [
    "def dataframe_viz_no_show_rate(df_viz, x, y = (8, 6), z = 0):\n",
    "    no_show_rate = round(df_viz['NoShow'].sum()/df_viz['NoShow'].count()*100)\n",
    "    plt.figure(figsize=y)\n",
    "    plt.bar(no_show_rate.index, no_show_rate.values)\n",
    "    plt.title(\"No Show Rate\"+\" vs \"+x)\n",
    "    plt.xlabel(x)\n",
    "    plt.ylabel(\"No Show Rate\")\n",
    "    if z == 1:\n",
    "        plt.xticks([0,1])"
   ]
  },
  {
   "cell_type": "code",
   "execution_count": 31,
   "metadata": {},
   "outputs": [
    {
     "data": {
      "text/plain": [
       "Index(['PatientId', 'AppointmentId', 'Gender', 'ScheduledDay',\n",
       "       'AppointmentDay', 'Age', 'Neighbourhood', 'Scholarship', 'Hypertension',\n",
       "       'Diabetes', 'Alcoholism', 'Handicap', 'SmsReceived', 'NoShow',\n",
       "       'AppointmentDow', 'ScheduledDow', 'ScheduledHod', 'WaitTime',\n",
       "       'AgeBracket', 'PatientType'],\n",
       "      dtype='object')"
      ]
     },
     "execution_count": 31,
     "metadata": {},
     "output_type": "execute_result"
    }
   ],
   "source": [
    "df.columns"
   ]
  },
  {
   "cell_type": "code",
   "execution_count": 32,
   "metadata": {},
   "outputs": [
    {
     "data": {
      "image/png": "[encoded data removed]",
      "text/plain": [
       "<Figure size 576x432 with 1 Axes>"
      ]
     },
     "metadata": {},
     "output_type": "display_data"
    }
   ],
   "source": [
    "dataframe_viz_no_show_rate(df.groupby('AgeBracket'), \"Age Bracket\")"
   ]
  },
  {
   "cell_type": "code",
   "execution_count": 94,
   "metadata": {},
   "outputs": [
    {
     "data": {
      "text/html": [
       "<div>\n",
       "<style scoped>\n",
       "    .dataframe tbody tr th:only-of-type {\n",
       "        vertical-align: middle;\n",
       "    }\n",
       "\n",
       "    .dataframe tbody tr th {\n",
       "        vertical-align: top;\n",
       "    }\n",
       "\n",
       "    .dataframe thead th {\n",
       "        text-align: right;\n",
       "    }\n",
       "</style>\n",
       "<table border=\"1\" class=\"dataframe\">\n",
       "  <thead>\n",
       "    <tr style=\"text-align: right;\">\n",
       "      <th></th>\n",
       "      <th></th>\n",
       "      <th>Scholarship</th>\n",
       "      <th>Hypertension</th>\n",
       "      <th>Diabetes</th>\n",
       "      <th>Alcoholism</th>\n",
       "      <th>Handicap</th>\n",
       "      <th>NoShow</th>\n",
       "    </tr>\n",
       "    <tr>\n",
       "      <th>AgeBracket</th>\n",
       "      <th>Gender</th>\n",
       "      <th></th>\n",
       "      <th></th>\n",
       "      <th></th>\n",
       "      <th></th>\n",
       "      <th></th>\n",
       "      <th></th>\n",
       "    </tr>\n",
       "  </thead>\n",
       "  <tbody>\n",
       "    <tr>\n",
       "      <th rowspan=\"2\" valign=\"top\">1-20</th>\n",
       "      <th>F</th>\n",
       "      <td>14.116291</td>\n",
       "      <td>0.131774</td>\n",
       "      <td>0.214133</td>\n",
       "      <td>0.082359</td>\n",
       "      <td>1.334212</td>\n",
       "      <td>5.056828</td>\n",
       "    </tr>\n",
       "    <tr>\n",
       "      <th>M</th>\n",
       "      <td>11.420715</td>\n",
       "      <td>0.164986</td>\n",
       "      <td>0.164986</td>\n",
       "      <td>0.238313</td>\n",
       "      <td>1.668194</td>\n",
       "      <td>9.734189</td>\n",
       "    </tr>\n",
       "    <tr>\n",
       "      <th rowspan=\"2\" valign=\"top\">21-40</th>\n",
       "      <th>F</th>\n",
       "      <td>20.773577</td>\n",
       "      <td>6.518905</td>\n",
       "      <td>2.028104</td>\n",
       "      <td>2.448211</td>\n",
       "      <td>1.419673</td>\n",
       "      <td>3.694046</td>\n",
       "    </tr>\n",
       "    <tr>\n",
       "      <th>M</th>\n",
       "      <td>1.988636</td>\n",
       "      <td>5.239899</td>\n",
       "      <td>1.167929</td>\n",
       "      <td>4.324495</td>\n",
       "      <td>2.967172</td>\n",
       "      <td>4.292929</td>\n",
       "    </tr>\n",
       "    <tr>\n",
       "      <th rowspan=\"2\" valign=\"top\">41-60</th>\n",
       "      <th>F</th>\n",
       "      <td>13.338684</td>\n",
       "      <td>31.364366</td>\n",
       "      <td>10.850722</td>\n",
       "      <td>4.606742</td>\n",
       "      <td>2.182986</td>\n",
       "      <td>3.467095</td>\n",
       "    </tr>\n",
       "    <tr>\n",
       "      <th>M</th>\n",
       "      <td>4.304539</td>\n",
       "      <td>25.036603</td>\n",
       "      <td>8.111274</td>\n",
       "      <td>17.013177</td>\n",
       "      <td>3.572474</td>\n",
       "      <td>3.748170</td>\n",
       "    </tr>\n",
       "    <tr>\n",
       "      <th rowspan=\"2\" valign=\"top\">61-80</th>\n",
       "      <th>F</th>\n",
       "      <td>5.095150</td>\n",
       "      <td>59.023941</td>\n",
       "      <td>26.856967</td>\n",
       "      <td>1.350522</td>\n",
       "      <td>4.143646</td>\n",
       "      <td>3.038674</td>\n",
       "    </tr>\n",
       "    <tr>\n",
       "      <th>M</th>\n",
       "      <td>2.367206</td>\n",
       "      <td>48.094688</td>\n",
       "      <td>19.630485</td>\n",
       "      <td>17.263279</td>\n",
       "      <td>5.080831</td>\n",
       "      <td>2.829099</td>\n",
       "    </tr>\n",
       "    <tr>\n",
       "      <th rowspan=\"2\" valign=\"top\">81-100</th>\n",
       "      <th>F</th>\n",
       "      <td>0.320513</td>\n",
       "      <td>64.102564</td>\n",
       "      <td>24.519231</td>\n",
       "      <td>0.160256</td>\n",
       "      <td>9.134615</td>\n",
       "      <td>2.884615</td>\n",
       "    </tr>\n",
       "    <tr>\n",
       "      <th>M</th>\n",
       "      <td>0.332226</td>\n",
       "      <td>56.810631</td>\n",
       "      <td>15.282392</td>\n",
       "      <td>0.664452</td>\n",
       "      <td>9.966777</td>\n",
       "      <td>2.325581</td>\n",
       "    </tr>\n",
       "  </tbody>\n",
       "</table>\n",
       "</div>"
      ],
      "text/plain": [
       "                   Scholarship  Hypertension   Diabetes  Alcoholism  Handicap  \\\n",
       "AgeBracket Gender                                                               \n",
       "1-20       F         14.116291      0.131774   0.214133    0.082359  1.334212   \n",
       "           M         11.420715      0.164986   0.164986    0.238313  1.668194   \n",
       "21-40      F         20.773577      6.518905   2.028104    2.448211  1.419673   \n",
       "           M          1.988636      5.239899   1.167929    4.324495  2.967172   \n",
       "41-60      F         13.338684     31.364366  10.850722    4.606742  2.182986   \n",
       "           M          4.304539     25.036603   8.111274   17.013177  3.572474   \n",
       "61-80      F          5.095150     59.023941  26.856967    1.350522  4.143646   \n",
       "           M          2.367206     48.094688  19.630485   17.263279  5.080831   \n",
       "81-100     F          0.320513     64.102564  24.519231    0.160256  9.134615   \n",
       "           M          0.332226     56.810631  15.282392    0.664452  9.966777   \n",
       "\n",
       "                     NoShow  \n",
       "AgeBracket Gender            \n",
       "1-20       F       5.056828  \n",
       "           M       9.734189  \n",
       "21-40      F       3.694046  \n",
       "           M       4.292929  \n",
       "41-60      F       3.467095  \n",
       "           M       3.748170  \n",
       "61-80      F       3.038674  \n",
       "           M       2.829099  \n",
       "81-100     F       2.884615  \n",
       "           M       2.325581  "
      ]
     },
     "execution_count": 94,
     "metadata": {},
     "output_type": "execute_result"
    }
   ],
   "source": [
    "df.groupby(['AgeBracket', 'Gender'])[['Scholarship', 'Hypertension',\n",
    "                          'Diabetes', 'Alcoholism', 'Handicap','NoShow']].mean()*100"
   ]
  },
  {
   "cell_type": "markdown",
   "metadata": {},
   "source": [
    "### Observation\n",
    "It can be observed that \"No Show Rate\" is maximum in 1-20 age group. This may be because this age group is least effected by diseases like hypertension, diabetes, alcoholism. "
   ]
  },
  {
   "cell_type": "code",
   "execution_count": 85,
   "metadata": {},
   "outputs": [
    {
     "data": {
      "image/png": "[encoded data removed]",
      "text/plain": [
       "<Figure size 576x432 with 1 Axes>"
      ]
     },
     "metadata": {},
     "output_type": "display_data"
    }
   ],
   "source": [
    "dataframe_viz_no_show_rate(df.groupby('Gender'), \"Gender\")"
   ]
  },
  {
   "cell_type": "code",
   "execution_count": 86,
   "metadata": {},
   "outputs": [
    {
     "data": {
      "text/plain": [
       "Gender\n",
       "F    37.483237\n",
       "M    32.916069\n",
       "Name: Age, dtype: float64"
      ]
     },
     "execution_count": 86,
     "metadata": {},
     "output_type": "execute_result"
    }
   ],
   "source": [
    "df.groupby('Gender')['Age'].mean()"
   ]
  },
  {
   "cell_type": "code",
   "execution_count": 92,
   "metadata": {},
   "outputs": [
    {
     "data": {
      "image/png": "[encoded data removed]",
      "text/plain": [
       "<Figure size 576x432 with 1 Axes>"
      ]
     },
     "metadata": {},
     "output_type": "display_data"
    }
   ],
   "source": [
    "dataframe_viz_no_show_rate(df.query('AgeBracket == \"1-20\"').groupby('Gender'), \"Gender\")"
   ]
  },
  {
   "cell_type": "markdown",
   "metadata": {},
   "source": [
    "## Observation\n",
    "\n",
    "It can be observed that younger males have higher \"No show rate\"."
   ]
  },
  {
   "cell_type": "code",
   "execution_count": 42,
   "metadata": {},
   "outputs": [
    {
     "data": {
      "image/png": "[encoded data removed]",
      "text/plain": [
       "<Figure size 576x432 with 1 Axes>"
      ]
     },
     "metadata": {},
     "output_type": "display_data"
    }
   ],
   "source": [
    "dataframe_viz_no_show_rate(df.groupby('PatientType'), \"Number of Appointments\")"
   ]
  },
  {
   "cell_type": "code",
   "execution_count": 35,
   "metadata": {},
   "outputs": [
    {
     "data": {
      "image/png": "[encoded data removed]",
      "text/plain": [
       "<Figure size 576x432 with 1 Axes>"
      ]
     },
     "metadata": {},
     "output_type": "display_data"
    }
   ],
   "source": [
    "dataframe_viz_no_show_rate(df.groupby('ScheduledDow'), \n",
    "                           \"Scheduled Day of Week\")"
   ]
  },
  {
   "cell_type": "markdown",
   "metadata": {},
   "source": [
    "### Observation\n",
    "\n",
    "It can be observed that maximum \"No Show Rate\" is on Fridays. \n",
    "This may be because the weekend is close and people prioritise other plans over their medical appointment."
   ]
  },
  {
   "cell_type": "code",
   "execution_count": 36,
   "metadata": {},
   "outputs": [
    {
     "data": {
      "image/png": "[encoded data removed]",
      "text/plain": [
       "<Figure size 576x432 with 1 Axes>"
      ]
     },
     "metadata": {},
     "output_type": "display_data"
    }
   ],
   "source": [
    "dataframe_viz_no_show_rate(df.groupby('ScheduledHod'), \n",
    "                           \"Scheduled Hour of the Day\")"
   ]
  },
  {
   "cell_type": "code",
   "execution_count": 37,
   "metadata": {},
   "outputs": [
    {
     "data": {
      "text/plain": [
       "157"
      ]
     },
     "execution_count": 37,
     "metadata": {},
     "output_type": "execute_result"
    }
   ],
   "source": [
    "#error in wait time hours\n",
    "def convert_to_hours(x):\n",
    "    days, seconds = x.days, x.seconds\n",
    "    hours = days * 24 + seconds // 3600\n",
    "    return hours\n",
    "\n",
    "df['WaitTimeHours'] = df['WaitTime'].apply(convert_to_hours)\n",
    "df['WaitTimeHours'].max()"
   ]
  },
  {
   "cell_type": "code",
   "execution_count": 38,
   "metadata": {},
   "outputs": [
    {
     "data": {
      "image/png": "[encoded data removed]",
      "text/plain": [
       "<Figure size 576x432 with 1 Axes>"
      ]
     },
     "metadata": {},
     "output_type": "display_data"
    }
   ],
   "source": [
    "dataframe_viz_no_show_rate(df.query('WaitTimeHours <= 24').groupby('WaitTimeHours'), \n",
    "                          \"Wait Time in Hours\")"
   ]
  },
  {
   "cell_type": "code",
   "execution_count": 39,
   "metadata": {},
   "outputs": [
    {
     "data": {
      "image/png": "[encoded data removed]",
      "text/plain": [
       "<Figure size 576x432 with 1 Axes>"
      ]
     },
     "metadata": {},
     "output_type": "display_data"
    }
   ],
   "source": [
    "dataframe_viz_no_show_rate(df.query('WaitTimeHours > 24').groupby('WaitTimeHours'),\n",
    "                           \"Wait Time in Hours\")"
   ]
  },
  {
   "cell_type": "code",
   "execution_count": 40,
   "metadata": {},
   "outputs": [
    {
     "data": {
      "image/png": "[encoded data removed]",
      "text/plain": [
       "<Figure size 288x288 with 1 Axes>"
      ]
     },
     "metadata": {},
     "output_type": "display_data"
    },
    {
     "data": {
      "image/png": "[encoded data removed]",
      "text/plain": [
       "<Figure size 288x288 with 1 Axes>"
      ]
     },
     "metadata": {},
     "output_type": "display_data"
    },
    {
     "data": {
      "image/png": "[encoded data removed]",
      "text/plain": [
       "<Figure size 288x288 with 1 Axes>"
      ]
     },
     "metadata": {},
     "output_type": "display_data"
    },
    {
     "data": {
      "image/png": "[encoded data removed]",
      "text/plain": [
       "<Figure size 288x288 with 1 Axes>"
      ]
     },
     "metadata": {},
     "output_type": "display_data"
    },
    {
     "data": {
      "image/png": "[encoded data removed]",
      "text/plain": [
       "<Figure size 288x288 with 1 Axes>"
      ]
     },
     "metadata": {},
     "output_type": "display_data"
    }
   ],
   "source": [
    "dataframe_viz_no_show_rate(df.groupby('Scholarship'), \"Scholarship\", (4,4), 1)\n",
    "dataframe_viz_no_show_rate(df.groupby('Hypertension'), \"Hypertension\", (4,4), 1)\n",
    "dataframe_viz_no_show_rate(df.groupby('Diabetes'), \"Diabetes\", (4,4), 1)\n",
    "dataframe_viz_no_show_rate(df.groupby('Alcoholism'), \"Alcoholism\", (4,4), 1)\n",
    "dataframe_viz_no_show_rate(df.groupby('Handicap'), \"Handicap\", (4,4), 1)"
   ]
  },
  {
   "cell_type": "code",
   "execution_count": 121,
   "metadata": {},
   "outputs": [
    {
     "name": "stdout",
     "output_type": "stream",
     "text": [
      "Scholarship\n",
      "0    7.007764\n",
      "1    9.054054\n",
      "Name: NoShow, dtype: float64\n"
     ]
    },
    {
     "data": {
      "text/plain": [
       "Scholarship\n",
       "0    3.473372\n",
       "1    4.134078\n",
       "Name: NoShow, dtype: float64"
      ]
     },
     "execution_count": 121,
     "metadata": {},
     "output_type": "execute_result"
    }
   ],
   "source": [
    "print(df[df['AgeBracket'] == \"1-20\"].groupby('Scholarship')['NoShow'].mean()*100)\n",
    "df[df['AgeBracket'] != \"1-20\"].groupby('Scholarship')['NoShow'].mean()*100"
   ]
  },
  {
   "cell_type": "markdown",
   "metadata": {},
   "source": [
    "### Observation\n",
    "\n",
    "- People who have diseases like hypertension, diabetes, alcoholism are more likely to show up to their appointment.\n",
    "- Handicap persons have higher \"No show rate\" than others. They may be facing some difficulties to commute to the meeting place.\n",
    "- The No Show Rate for scholarship may be skewed by young people who have scholarship but are not showing up due to other reasons."
   ]
  },
  {
   "cell_type": "code",
   "execution_count": 113,
   "metadata": {},
   "outputs": [
    {
     "data": {
      "text/plain": [
       "Text(0,0.5,'Neighbourhoods')"
      ]
     },
     "execution_count": 113,
     "metadata": {},
     "output_type": "execute_result"
    },
    {
     "data": {
      "image/png": "[encoded data removed]",
      "text/plain": [
       "<Figure size 720x576 with 1 Axes>"
      ]
     },
     "metadata": {},
     "output_type": "display_data"
    }
   ],
   "source": [
    "base_noshow = round(df['NoShow'].mean()*100)\n",
    "dfn = round(df.groupby('Neighbourhood')['NoShow'].mean()*100)\n",
    "dfn = dfn[dfn > base_noshow]\n",
    "#no_show_rate = dfn\n",
    "no_show_rate = no_show_rate.sort_values(ascending = True)\n",
    "#no_show_rate = no_show_rate.tail(40)\n",
    "plt.figure(figsize=(10, 8))\n",
    "plt.barh(no_show_rate.index, no_show_rate.values)\n",
    "plt.title(\"Nesighbourhoods vs No Show Rate\")\n",
    "plt.xlabel(\"No Show Rate\")\n",
    "plt.ylabel(\"Neighbourhoods\")"
   ]
  },
  {
   "cell_type": "markdown",
   "metadata": {},
   "source": [
    "### Observation\n",
    "\n",
    "The figure above shows the \"No Show Rate\" of neighbourhoods with higher than average values."
   ]
  },
  {
   "cell_type": "markdown",
   "metadata": {},
   "source": [
    "<a id='4'></a>\n",
    "## Step 4 - Conclusion\n",
    "\n",
    "1. It can be observed that \"No Show Rate\" is maximum in 1-20 age group. This may be because this age group is least effected by diseases like hypertension, diabetes, alcoholism.\n",
    "\n",
    "2. It can be observed that younger males have higher \"No show rate\".\n",
    "\n",
    "3. It can be observed that maximum \"No Show Rate\" is on Fridays. This may be because the weekend is close and people prioritise other plans over their medical appointment.\n",
    "\n",
    "4. People who have diseases like hypertension, diabetes, alcoholism are more likely to show up to their appointment.\n",
    "\n",
    "5. Handicap persons have higher \"No show rate\" than others. They may be facing some difficulties to commute to the meeting place.\n",
    "\n",
    "6. The No Show Rate for schoarships may be skewed by young people having scholarship but not showing up due to other reasons.\n",
    "\n",
    "6. The figure above shows the \"No Show Rate\" of neighbourhoods with higher than average values."
   ]
  }
 ],
 "metadata": {
  "kernelspec": {
   "display_name": "Python 3",
   "language": "python",
   "name": "python3"
  },
  "language_info": {
   "codemirror_mode": {
    "name": "ipython",
    "version": 3
   },
   "file_extension": ".py",
   "mimetype": "text/x-python",
   "name": "python",
   "nbconvert_exporter": "python",
   "pygments_lexer": "ipython3",
   "version": "3.6.5"
  }
 },
 "nbformat": 4,
 "nbformat_minor": 2
}
